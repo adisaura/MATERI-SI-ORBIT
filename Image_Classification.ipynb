{
  "nbformat": 4,
  "nbformat_minor": 0,
  "metadata": {
    "colab": {
      "name": "Image-Classification.ipynb",
      "provenance": [],
      "collapsed_sections": [],
      "include_colab_link": true
    },
    "kernelspec": {
      "name": "python3",
      "display_name": "Python 3"
    }
  },
  "cells": [
    {
      "cell_type": "markdown",
      "metadata": {
        "id": "view-in-github",
        "colab_type": "text"
      },
      "source": [
        "<a href=\"https://colab.research.google.com/github/adisaura/MATERI-SI-ORBIT/blob/main/Image_Classification.ipynb\" target=\"_parent\"><img src=\"https://colab.research.google.com/assets/colab-badge.svg\" alt=\"Open In Colab\"/></a>"
      ]
    },
    {
      "cell_type": "markdown",
      "metadata": {
        "id": "7ZlxmRlaEyvx"
      },
      "source": [
        "Senin, 8 November 2021 (Image Classification in CV)"
      ]
    },
    {
      "cell_type": "markdown",
      "metadata": {
        "id": "01_qRquKFLv9"
      },
      "source": [
        "REFERENSI\n",
        "\n",
        "- [Open CV Face Recognition Berbasis Algoritma Haar Cascade in medium.com](https://medium.com/purwadhikaconnect/opencv-face-recognition-berbasis-algoritma-haar-cascade-1a5e23d9e8cb)\n",
        "- [Jurnal ttg Implementasi Face Mask Detection Berbasis Machine Learning](http://journal.stmikjayakarta.ac.id/index.php/jisamar/article/view/399)"
      ]
    },
    {
      "cell_type": "code",
      "metadata": {
        "id": "8vM89u9B8uD7"
      },
      "source": [
        "#import library yang digunakan\n",
        "import pickle, gzip\n",
        "import numpy as np\n",
        "import urllib.request"
      ],
      "execution_count": 1,
      "outputs": []
    },
    {
      "cell_type": "code",
      "metadata": {
        "id": "0yTy6p0iR9jX"
      },
      "source": [
        "#Download dataset dari dropbox\n",
        "url = \"https://www.dropbox.com/s/d3hz2dli4z6imfl/mnist_1000.pkl.gz?dl=1\"\n",
        "u = urllib.request.urlopen(url)\n",
        "data = u.read()\n",
        "u.close()\n",
        " \n",
        "with open('mnist_1000.pkl.gz', \"wb\") as f :\n",
        "    f.write(data)"
      ],
      "execution_count": 2,
      "outputs": []
    },
    {
      "cell_type": "code",
      "metadata": {
        "id": "Jm7p-Q-583hE",
        "colab": {
          "base_uri": "https://localhost:8080/"
        },
        "outputId": "01d115b7-ca3d-4b7f-ab5a-b4dd38fefdb9"
      },
      "source": [
        "## load dataset\n",
        "\n",
        "f = gzip.open('/content/mnist_1000.pkl.gz', 'rb')\n",
        "trainData, trainLabels, valData, valLabels, testData, testLabels = pickle.load(\n",
        "    f, encoding='latin1')\n",
        "f.close()\n",
        " \n",
        "print(\"training data points: {}\".format(len(trainLabels)))\n",
        "print(\"validation data points: {}\".format(len(valLabels)))\n",
        "print(\"testing data points: {}\".format(len(testLabels)))"
      ],
      "execution_count": 3,
      "outputs": [
        {
          "output_type": "stream",
          "name": "stdout",
          "text": [
            "training data points: 1000\n",
            "validation data points: 200\n",
            "testing data points: 200\n"
          ]
        }
      ]
    },
    {
      "cell_type": "code",
      "metadata": {
        "colab": {
          "base_uri": "https://localhost:8080/"
        },
        "id": "BaMPcVPmSEfJ",
        "outputId": "b29273af-1854-4d38-9105-0858f3380468"
      },
      "source": [
        "#Lihat label data\n",
        "\n",
        "print('label datanya : ', np.unique(trainLabels))\n",
        "print('ukuran matriks tiap datanya : ', trainData[0].shape)"
      ],
      "execution_count": 4,
      "outputs": [
        {
          "output_type": "stream",
          "name": "stdout",
          "text": [
            "label datanya :  [0 1 2 3 4 5 6 7 8 9]\n",
            "ukuran matriks tiap datanya :  (784,)\n"
          ]
        }
      ]
    },
    {
      "cell_type": "code",
      "metadata": {
        "colab": {
          "base_uri": "https://localhost:8080/",
          "height": 237
        },
        "id": "6v-A6BehUdD-",
        "outputId": "2dba5491-8c77-4ed4-bfef-64d8f1a070a4"
      },
      "source": [
        "#Visualisasikan 10 data training pertama:\n",
        "import matplotlib.pyplot as plt\n",
        "\n",
        "for i in range(10):\n",
        "  image = trainData[i].reshape((64,64))\n",
        "  print('label = ', trainLabels[i])\n",
        "  plt.imshow(image, cmap=\"Greys\")\n",
        "  plt.show()"
      ],
      "execution_count": 7,
      "outputs": [
        {
          "output_type": "error",
          "ename": "ValueError",
          "evalue": "ignored",
          "traceback": [
            "\u001b[0;31m---------------------------------------------------------------------------\u001b[0m",
            "\u001b[0;31mValueError\u001b[0m                                Traceback (most recent call last)",
            "\u001b[0;32m<ipython-input-7-026aacfa095d>\u001b[0m in \u001b[0;36m<module>\u001b[0;34m()\u001b[0m\n\u001b[1;32m      3\u001b[0m \u001b[0;34m\u001b[0m\u001b[0m\n\u001b[1;32m      4\u001b[0m \u001b[0;32mfor\u001b[0m \u001b[0mi\u001b[0m \u001b[0;32min\u001b[0m \u001b[0mrange\u001b[0m\u001b[0;34m(\u001b[0m\u001b[0;36m10\u001b[0m\u001b[0;34m)\u001b[0m\u001b[0;34m:\u001b[0m\u001b[0;34m\u001b[0m\u001b[0;34m\u001b[0m\u001b[0m\n\u001b[0;32m----> 5\u001b[0;31m   \u001b[0mimage\u001b[0m \u001b[0;34m=\u001b[0m \u001b[0mtrainData\u001b[0m\u001b[0;34m[\u001b[0m\u001b[0mi\u001b[0m\u001b[0;34m]\u001b[0m\u001b[0;34m.\u001b[0m\u001b[0mreshape\u001b[0m\u001b[0;34m(\u001b[0m\u001b[0;34m(\u001b[0m\u001b[0;36m64\u001b[0m\u001b[0;34m,\u001b[0m\u001b[0;36m64\u001b[0m\u001b[0;34m)\u001b[0m\u001b[0;34m)\u001b[0m\u001b[0;34m\u001b[0m\u001b[0;34m\u001b[0m\u001b[0m\n\u001b[0m\u001b[1;32m      6\u001b[0m   \u001b[0mprint\u001b[0m\u001b[0;34m(\u001b[0m\u001b[0;34m'label = '\u001b[0m\u001b[0;34m,\u001b[0m \u001b[0mtrainLabels\u001b[0m\u001b[0;34m[\u001b[0m\u001b[0mi\u001b[0m\u001b[0;34m]\u001b[0m\u001b[0;34m)\u001b[0m\u001b[0;34m\u001b[0m\u001b[0;34m\u001b[0m\u001b[0m\n\u001b[1;32m      7\u001b[0m   \u001b[0mplt\u001b[0m\u001b[0;34m.\u001b[0m\u001b[0mimshow\u001b[0m\u001b[0;34m(\u001b[0m\u001b[0mimage\u001b[0m\u001b[0;34m,\u001b[0m \u001b[0mcmap\u001b[0m\u001b[0;34m=\u001b[0m\u001b[0;34m\"Greys\"\u001b[0m\u001b[0;34m)\u001b[0m\u001b[0;34m\u001b[0m\u001b[0;34m\u001b[0m\u001b[0m\n",
            "\u001b[0;31mValueError\u001b[0m: cannot reshape array of size 784 into shape (64,64)"
          ]
        }
      ]
    },
    {
      "cell_type": "markdown",
      "metadata": {
        "id": "uEgmjvLrUiDK"
      },
      "source": [
        "Ups... kok code diatas gak bisa/error? karena ukuran reshapenya disitu 32x32, sementara data matriks aslinya disimpan dalam ukuran 784x1 (lihat output kodingan diatasnya). 32x32 tidak sama dengan 784x1, sehingga dia tidak mau direshape ke 32x32. Harus yang sama hasilnya, misalnya 28x28 (karena 28x28 = 784), seperti dibawah ini :"
      ]
    },
    {
      "cell_type": "code",
      "metadata": {
        "id": "Hk3KBmuESMwz"
      },
      "source": [
        "#Visualisasikan 10 data training pertama:\n",
        "import matplotlib.pyplot as plt\n",
        "\n",
        "for i in range(10):\n",
        "  image = trainData[i].reshape((28,28))\n",
        "  print('label = ', trainLabels[i])\n",
        "  plt.imshow(image, cmap=\"Greys\")\n",
        "  plt.show()"
      ],
      "execution_count": null,
      "outputs": []
    },
    {
      "cell_type": "code",
      "metadata": {
        "id": "oMz1VoLq9DBO"
      },
      "source": [
        "#import KNN Classifier\n",
        "from sklearn.neighbors import KNeighborsClassifier"
      ],
      "execution_count": null,
      "outputs": []
    },
    {
      "cell_type": "code",
      "metadata": {
        "id": "Mq8AUd4W9HE1"
      },
      "source": [
        "## Melatih model\n",
        " \n",
        "for k in [1, 3, 5, 7, 9, 11, 13, 15, 25]:\n",
        "    model = KNeighborsClassifier(n_neighbors=k)\n",
        "    model.fit(trainData, trainLabels)\n",
        " \n",
        "    score = model.score(valData, valLabels)\n",
        "    print(k, score) "
      ],
      "execution_count": null,
      "outputs": []
    },
    {
      "cell_type": "code",
      "metadata": {
        "id": "pUfWJP719KQE"
      },
      "source": [
        "# melatih ulang classifier menggunakan nilai k terbaik value dan memprediksikan label\n",
        "model = KNeighborsClassifier(n_neighbors=3)\n",
        "model.fit(trainData, trainLabels)\n",
        "accuracy = model.score(testData, testLabels)\n",
        "print(\"Achieved accuracy of %.2f%% on test data\" % (accuracy*100))"
      ],
      "execution_count": null,
      "outputs": []
    },
    {
      "cell_type": "code",
      "metadata": {
        "id": "cUT2rBwY9MRh"
      },
      "source": [
        "from sklearn.metrics import classification_report\n",
        "predictions = model.predict(testData)\n",
        "print(\"Classification Report\")\n",
        "print(classification_report(testLabels, predictions))"
      ],
      "execution_count": null,
      "outputs": []
    },
    {
      "cell_type": "code",
      "metadata": {
        "id": "Ug62-h8d9OK3"
      },
      "source": [
        "from sklearn.metrics import confusion_matrix\n",
        "print(\"Confusion Matrix\")\n",
        "print(confusion_matrix(testLabels, predictions))"
      ],
      "execution_count": null,
      "outputs": []
    },
    {
      "cell_type": "code",
      "metadata": {
        "id": "u3fl4mwkeiqL"
      },
      "source": [
        "testData"
      ],
      "execution_count": null,
      "outputs": []
    }
  ]
}